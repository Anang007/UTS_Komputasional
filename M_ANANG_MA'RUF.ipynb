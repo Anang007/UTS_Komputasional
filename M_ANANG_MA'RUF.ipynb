{
  "nbformat": 4,
  "nbformat_minor": 0,
  "metadata": {
    "colab": {
      "provenance": [],
      "authorship_tag": "ABX9TyNG5vgRzD8RsKLGhhs7a9zu",
      "include_colab_link": true
    },
    "kernelspec": {
      "name": "python3",
      "display_name": "Python 3"
    },
    "language_info": {
      "name": "python"
    }
  },
  "cells": [
    {
      "cell_type": "markdown",
      "metadata": {
        "id": "view-in-github",
        "colab_type": "text"
      },
      "source": [
        "<a href=\"https://colab.research.google.com/github/Anang007/UTS_Komputasional/blob/main/M_ANANG_MA'RUF.ipynb\" target=\"_parent\"><img src=\"https://colab.research.google.com/assets/colab-badge.svg\" alt=\"Open In Colab\"/></a>"
      ]
    },
    {
      "cell_type": "code",
      "execution_count": 1,
      "metadata": {
        "id": "hOOb1RjiDOiV"
      },
      "outputs": [],
      "source": [
        "import matplotlib as plt\n",
        "from sklearn.datasets import make_blobs\n",
        "from sklearn.cluster import KMeans\n",
        "from sklearn.metrics import silhouette_score\n",
        "from sklearn.preprocessing import StandardScaler"
      ]
    },
    {
      "cell_type": "code",
      "source": [
        "features, true_label = make_blobs(\n",
        "    n_samples=300,\n",
        "    centers=5,\n",
        "    cluster_std=2.75,\n",
        "    random_state=42\n",
        ")"
      ],
      "metadata": {
        "id": "362Bdzn9Dryh"
      },
      "execution_count": 3,
      "outputs": []
    },
    {
      "cell_type": "code",
      "source": [
        "features[:10]"
      ],
      "metadata": {
        "colab": {
          "base_uri": "https://localhost:8080/"
        },
        "id": "93bjan38EGr4",
        "outputId": "8ba2c0d8-f77f-4059-a6a6-d0735f751e0d"
      },
      "execution_count": 4,
      "outputs": [
        {
          "output_type": "execute_result",
          "data": {
            "text/plain": [
              "array([[ 2.67781361,  9.49437511],\n",
              "       [-2.04381194,  7.30677517],\n",
              "       [-1.93482274,  3.62519329],\n",
              "       [ 4.02535618,  3.93667104],\n",
              "       [-6.16170926,  9.55565453],\n",
              "       [-9.14722989,  6.71585652],\n",
              "       [ 0.39321694,  1.78547694],\n",
              "       [-6.67116466, -8.7423043 ],\n",
              "       [-7.78214777,  7.23361236],\n",
              "       [ 3.60924858,  3.60307674]])"
            ]
          },
          "metadata": {},
          "execution_count": 4
        }
      ]
    },
    {
      "cell_type": "code",
      "source": [
        "true_label[:200]"
      ],
      "metadata": {
        "colab": {
          "base_uri": "https://localhost:8080/"
        },
        "id": "Kt2qrGnXELbY",
        "outputId": "c9afb9a4-7c56-4d44-eea8-b8222c9a6385"
      },
      "execution_count": 5,
      "outputs": [
        {
          "output_type": "execute_result",
          "data": {
            "text/plain": [
              "array([0, 4, 0, 1, 0, 3, 4, 2, 3, 4, 1, 0, 1, 0, 4, 0, 1, 1, 4, 0, 0, 1,\n",
              "       0, 4, 4, 0, 2, 4, 1, 2, 3, 4, 4, 3, 2, 1, 1, 4, 3, 1, 0, 1, 2, 3,\n",
              "       4, 3, 0, 2, 4, 2, 3, 4, 2, 3, 0, 3, 1, 0, 3, 2, 0, 3, 4, 4, 2, 1,\n",
              "       2, 2, 2, 2, 1, 2, 3, 4, 3, 0, 3, 3, 4, 0, 2, 0, 0, 4, 0, 2, 3, 1,\n",
              "       1, 4, 4, 4, 0, 4, 0, 0, 4, 3, 1, 4, 3, 3, 1, 2, 0, 0, 0, 1, 0, 1,\n",
              "       3, 4, 1, 1, 0, 0, 0, 2, 3, 3, 3, 2, 3, 3, 0, 2, 4, 4, 3, 0, 1, 3,\n",
              "       1, 0, 0, 0, 0, 1, 2, 4, 0, 3, 0, 1, 4, 0, 4, 2, 1, 2, 1, 2, 2, 1,\n",
              "       0, 4, 2, 3, 0, 1, 3, 3, 4, 1, 0, 3, 4, 4, 1, 4, 2, 0, 1, 1, 0, 1,\n",
              "       3, 1, 2, 2, 3, 3, 1, 2, 2, 4, 0, 3, 2, 1, 4, 2, 0, 2, 2, 3, 3, 2,\n",
              "       4, 1])"
            ]
          },
          "metadata": {},
          "execution_count": 5
        }
      ]
    },
    {
      "cell_type": "code",
      "source": [
        "standard_skala = StandardScaler()\n",
        "skala_fitur = standard_skala.fit_transform(features)"
      ],
      "metadata": {
        "id": "Fma95Tg1EQ2Y"
      },
      "execution_count": 6,
      "outputs": []
    },
    {
      "cell_type": "code",
      "source": [
        "skala_fitur[:10]"
      ],
      "metadata": {
        "colab": {
          "base_uri": "https://localhost:8080/"
        },
        "id": "wEkytAiSEWqt",
        "outputId": "ff5f2b48-9002-495e-8d58-d9eb7bd68d00"
      },
      "execution_count": 7,
      "outputs": [
        {
          "output_type": "execute_result",
          "data": {
            "text/plain": [
              "array([[ 0.89566139,  1.04090357],\n",
              "       [ 0.05519074,  0.68668293],\n",
              "       [ 0.07459131,  0.09055367],\n",
              "       [ 1.13553005,  0.14098879],\n",
              "       [-0.67781357,  1.05082606],\n",
              "       [-1.20924971,  0.59100017],\n",
              "       [ 0.48899288, -0.20733695],\n",
              "       [-0.76849893, -1.91201678],\n",
              "       [-0.96625893,  0.67483625],\n",
              "       [ 1.06146102,  0.08697252]])"
            ]
          },
          "metadata": {},
          "execution_count": 7
        }
      ]
    },
    {
      "cell_type": "code",
      "source": [
        "metode_kmeans = KMeans(\n",
        "    init=\"random\", \n",
        "    n_clusters=3, \n",
        "    n_init=10, \n",
        "    max_iter=100, \n",
        "    random_state=41\n",
        "    )"
      ],
      "metadata": {
        "id": "kSV-bx8_Eakt"
      },
      "execution_count": 8,
      "outputs": []
    },
    {
      "cell_type": "code",
      "source": [
        "metode_kmeans.fit(skala_fitur)"
      ],
      "metadata": {
        "colab": {
          "base_uri": "https://localhost:8080/",
          "height": 75
        },
        "id": "9GcVE8tMEi_I",
        "outputId": "a24405ea-d0af-464b-bef6-4170f78f4340"
      },
      "execution_count": 9,
      "outputs": [
        {
          "output_type": "execute_result",
          "data": {
            "text/plain": [
              "KMeans(init='random', max_iter=100, n_clusters=3, n_init=10, random_state=41)"
            ],
            "text/html": [
              "<style>#sk-container-id-1 {color: black;background-color: white;}#sk-container-id-1 pre{padding: 0;}#sk-container-id-1 div.sk-toggleable {background-color: white;}#sk-container-id-1 label.sk-toggleable__label {cursor: pointer;display: block;width: 100%;margin-bottom: 0;padding: 0.3em;box-sizing: border-box;text-align: center;}#sk-container-id-1 label.sk-toggleable__label-arrow:before {content: \"▸\";float: left;margin-right: 0.25em;color: #696969;}#sk-container-id-1 label.sk-toggleable__label-arrow:hover:before {color: black;}#sk-container-id-1 div.sk-estimator:hover label.sk-toggleable__label-arrow:before {color: black;}#sk-container-id-1 div.sk-toggleable__content {max-height: 0;max-width: 0;overflow: hidden;text-align: left;background-color: #f0f8ff;}#sk-container-id-1 div.sk-toggleable__content pre {margin: 0.2em;color: black;border-radius: 0.25em;background-color: #f0f8ff;}#sk-container-id-1 input.sk-toggleable__control:checked~div.sk-toggleable__content {max-height: 200px;max-width: 100%;overflow: auto;}#sk-container-id-1 input.sk-toggleable__control:checked~label.sk-toggleable__label-arrow:before {content: \"▾\";}#sk-container-id-1 div.sk-estimator input.sk-toggleable__control:checked~label.sk-toggleable__label {background-color: #d4ebff;}#sk-container-id-1 div.sk-label input.sk-toggleable__control:checked~label.sk-toggleable__label {background-color: #d4ebff;}#sk-container-id-1 input.sk-hidden--visually {border: 0;clip: rect(1px 1px 1px 1px);clip: rect(1px, 1px, 1px, 1px);height: 1px;margin: -1px;overflow: hidden;padding: 0;position: absolute;width: 1px;}#sk-container-id-1 div.sk-estimator {font-family: monospace;background-color: #f0f8ff;border: 1px dotted black;border-radius: 0.25em;box-sizing: border-box;margin-bottom: 0.5em;}#sk-container-id-1 div.sk-estimator:hover {background-color: #d4ebff;}#sk-container-id-1 div.sk-parallel-item::after {content: \"\";width: 100%;border-bottom: 1px solid gray;flex-grow: 1;}#sk-container-id-1 div.sk-label:hover label.sk-toggleable__label {background-color: #d4ebff;}#sk-container-id-1 div.sk-serial::before {content: \"\";position: absolute;border-left: 1px solid gray;box-sizing: border-box;top: 0;bottom: 0;left: 50%;z-index: 0;}#sk-container-id-1 div.sk-serial {display: flex;flex-direction: column;align-items: center;background-color: white;padding-right: 0.2em;padding-left: 0.2em;position: relative;}#sk-container-id-1 div.sk-item {position: relative;z-index: 1;}#sk-container-id-1 div.sk-parallel {display: flex;align-items: stretch;justify-content: center;background-color: white;position: relative;}#sk-container-id-1 div.sk-item::before, #sk-container-id-1 div.sk-parallel-item::before {content: \"\";position: absolute;border-left: 1px solid gray;box-sizing: border-box;top: 0;bottom: 0;left: 50%;z-index: -1;}#sk-container-id-1 div.sk-parallel-item {display: flex;flex-direction: column;z-index: 1;position: relative;background-color: white;}#sk-container-id-1 div.sk-parallel-item:first-child::after {align-self: flex-end;width: 50%;}#sk-container-id-1 div.sk-parallel-item:last-child::after {align-self: flex-start;width: 50%;}#sk-container-id-1 div.sk-parallel-item:only-child::after {width: 0;}#sk-container-id-1 div.sk-dashed-wrapped {border: 1px dashed gray;margin: 0 0.4em 0.5em 0.4em;box-sizing: border-box;padding-bottom: 0.4em;background-color: white;}#sk-container-id-1 div.sk-label label {font-family: monospace;font-weight: bold;display: inline-block;line-height: 1.2em;}#sk-container-id-1 div.sk-label-container {text-align: center;}#sk-container-id-1 div.sk-container {/* jupyter's `normalize.less` sets `[hidden] { display: none; }` but bootstrap.min.css set `[hidden] { display: none !important; }` so we also need the `!important` here to be able to override the default hidden behavior on the sphinx rendered scikit-learn.org. See: https://github.com/scikit-learn/scikit-learn/issues/21755 */display: inline-block !important;position: relative;}#sk-container-id-1 div.sk-text-repr-fallback {display: none;}</style><div id=\"sk-container-id-1\" class=\"sk-top-container\"><div class=\"sk-text-repr-fallback\"><pre>KMeans(init=&#x27;random&#x27;, max_iter=100, n_clusters=3, n_init=10, random_state=41)</pre><b>In a Jupyter environment, please rerun this cell to show the HTML representation or trust the notebook. <br />On GitHub, the HTML representation is unable to render, please try loading this page with nbviewer.org.</b></div><div class=\"sk-container\" hidden><div class=\"sk-item\"><div class=\"sk-estimator sk-toggleable\"><input class=\"sk-toggleable__control sk-hidden--visually\" id=\"sk-estimator-id-1\" type=\"checkbox\" checked><label for=\"sk-estimator-id-1\" class=\"sk-toggleable__label sk-toggleable__label-arrow\">KMeans</label><div class=\"sk-toggleable__content\"><pre>KMeans(init=&#x27;random&#x27;, max_iter=100, n_clusters=3, n_init=10, random_state=41)</pre></div></div></div></div></div>"
            ]
          },
          "metadata": {},
          "execution_count": 9
        }
      ]
    },
    {
      "cell_type": "code",
      "source": [
        "metode_kmeans.inertia_"
      ],
      "metadata": {
        "colab": {
          "base_uri": "https://localhost:8080/"
        },
        "id": "w2wC8-yhEm2W",
        "outputId": "4197868c-0d78-4e3d-8317-432e090bca8b"
      },
      "execution_count": 10,
      "outputs": [
        {
          "output_type": "execute_result",
          "data": {
            "text/plain": [
              "154.9272116636811"
            ]
          },
          "metadata": {},
          "execution_count": 10
        }
      ]
    },
    {
      "cell_type": "code",
      "source": [
        "metode_kmeans.cluster_centers_"
      ],
      "metadata": {
        "colab": {
          "base_uri": "https://localhost:8080/"
        },
        "id": "LDCVsMtuEsn5",
        "outputId": "56c0e61b-9445-492f-af28-019076a2ecc2"
      },
      "execution_count": 11,
      "outputs": [
        {
          "output_type": "execute_result",
          "data": {
            "text/plain": [
              "array([[-0.71095412, -1.65026178],\n",
              "       [-0.68258693,  0.79813128],\n",
              "       [ 0.9960969 ,  0.0458077 ]])"
            ]
          },
          "metadata": {},
          "execution_count": 11
        }
      ]
    },
    {
      "cell_type": "code",
      "source": [
        "metode_kmeans.n_iter_"
      ],
      "metadata": {
        "colab": {
          "base_uri": "https://localhost:8080/"
        },
        "id": "yjtOP2PvEyQY",
        "outputId": "8e4a9c8f-900f-417b-d481-a47d6d87ec8e"
      },
      "execution_count": 12,
      "outputs": [
        {
          "output_type": "execute_result",
          "data": {
            "text/plain": [
              "5"
            ]
          },
          "metadata": {},
          "execution_count": 12
        }
      ]
    },
    {
      "cell_type": "code",
      "source": [
        "metode_kmeans.labels_"
      ],
      "metadata": {
        "colab": {
          "base_uri": "https://localhost:8080/"
        },
        "id": "TpVEjDzdE2r4",
        "outputId": "a49ad8f9-c9df-40f9-ac58-aa65e38e4bb3"
      },
      "execution_count": 13,
      "outputs": [
        {
          "output_type": "execute_result",
          "data": {
            "text/plain": [
              "array([2, 1, 2, 2, 1, 1, 2, 0, 1, 2, 2, 1, 2, 1, 2, 1, 2, 2, 1, 1, 1, 2,\n",
              "       1, 2, 2, 2, 0, 2, 2, 0, 1, 2, 2, 1, 0, 2, 2, 2, 1, 2, 1, 2, 0, 1,\n",
              "       2, 1, 1, 0, 2, 0, 1, 2, 0, 1, 1, 1, 2, 1, 1, 0, 2, 1, 2, 2, 0, 2,\n",
              "       0, 0, 0, 0, 2, 0, 1, 2, 1, 1, 1, 1, 2, 1, 0, 1, 1, 2, 1, 0, 1, 2,\n",
              "       2, 2, 2, 2, 1, 2, 1, 1, 2, 1, 2, 2, 1, 1, 2, 0, 2, 1, 1, 2, 1, 2,\n",
              "       1, 2, 2, 2, 1, 1, 2, 0, 1, 1, 1, 0, 1, 1, 1, 0, 2, 1, 1, 1, 2, 1,\n",
              "       2, 1, 1, 1, 1, 2, 0, 2, 1, 1, 1, 2, 2, 2, 2, 0, 2, 0, 2, 0, 0, 2,\n",
              "       2, 2, 0, 1, 1, 2, 1, 1, 1, 2, 1, 1, 2, 2, 2, 2, 0, 1, 2, 2, 2, 2,\n",
              "       1, 2, 0, 0, 1, 1, 2, 0, 0, 2, 1, 1, 0, 2, 2, 0, 1, 0, 0, 1, 1, 0,\n",
              "       2, 2, 1, 0, 2, 2, 1, 1, 1, 0, 0, 1, 0, 1, 1, 0, 1, 2, 1, 1, 0, 2,\n",
              "       1, 1, 2, 1, 2, 2, 1, 2, 1, 2, 1, 2, 2, 0, 2, 2, 2, 2, 2, 1, 1, 2,\n",
              "       0, 1, 0, 1, 2, 2, 0, 0, 2, 2, 1, 0, 1, 2, 0, 2, 0, 2, 0, 1, 2, 2,\n",
              "       2, 1, 2, 2, 0, 2, 1, 0, 0, 1, 1, 1, 2, 2, 1, 2, 1, 1, 1, 2, 2, 0,\n",
              "       0, 0, 2, 2, 1, 2, 0, 1, 1, 1, 0, 2, 2, 1], dtype=int32)"
            ]
          },
          "metadata": {},
          "execution_count": 13
        }
      ]
    },
    {
      "cell_type": "code",
      "source": [
        "import numpy as np\n",
        "import matplotlib.pyplot as plt\n",
        "import pandas as pd\n"
      ],
      "metadata": {
        "id": "IWnr_-YGE7Ys"
      },
      "execution_count": 14,
      "outputs": []
    },
    {
      "cell_type": "code",
      "source": [
        "color = np.array([\"Red\",\"Green\",\"Blue\",\"yellow\",\"brown\"])\n",
        "plt.subplot(1,2,2)\n",
        "plt.scatter(skala_fitur[:,0], skala_fitur[:,1], s=50, alpha=1, cmap='viridis', c=color[metode_kmeans.labels_])"
      ],
      "metadata": {
        "colab": {
          "base_uri": "https://localhost:8080/",
          "height": 482
        },
        "id": "OnVoPOQsFDr9",
        "outputId": "be24ae82-3238-4aa6-9019-5817cbf0587e"
      },
      "execution_count": 15,
      "outputs": [
        {
          "output_type": "stream",
          "name": "stderr",
          "text": [
            "<ipython-input-15-860e6561b51d>:3: UserWarning: No data for colormapping provided via 'c'. Parameters 'cmap' will be ignored\n",
            "  plt.scatter(skala_fitur[:,0], skala_fitur[:,1], s=50, alpha=1, cmap='viridis', c=color[metode_kmeans.labels_])\n"
          ]
        },
        {
          "output_type": "execute_result",
          "data": {
            "text/plain": [
              "<matplotlib.collections.PathCollection at 0x7f0103183af0>"
            ]
          },
          "metadata": {},
          "execution_count": 15
        },
        {
          "output_type": "display_data",
          "data": {
            "text/plain": [
              "<Figure size 640x480 with 1 Axes>"
            ],
            "image/png": "[encoded data removed]"
          },
          "metadata": {}
        }
      ]
    }
  ]
}